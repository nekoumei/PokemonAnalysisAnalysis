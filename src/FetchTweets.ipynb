{
 "cells": [
  {
   "cell_type": "markdown",
   "metadata": {},
   "source": [
    "## ツイート取得\n",
    "Tweepyを使ってAPI制限を待ちつつ取得する。  \n",
    "重いのでツイートオブジェクトから最小限の情報のみ抽出、途中でkernelが落ちてもいいように適当にdumpする。  \n",
    "空き時間を利用するため3回くらいに分けて実行した  "
   ]
  },
  {
   "cell_type": "code",
   "execution_count": null,
   "metadata": {},
   "outputs": [],
   "source": [
    "import configparser\n",
    "import tweepy\n",
    "import joblib"
   ]
  },
  {
   "cell_type": "code",
   "execution_count": null,
   "metadata": {},
   "outputs": [],
   "source": [
    "conf = configparser.ConfigParser()\n",
    "conf.read('../config/setting.ini')"
   ]
  },
  {
   "cell_type": "code",
   "execution_count": null,
   "metadata": {},
   "outputs": [],
   "source": [
    "auth = tweepy.OAuthHandler(conf['twitterapi']['consumer_key'], conf['twitterapi']['consumer_secret'])\n",
    "auth.set_access_token(conf['twitterapi']['token'], conf['twitterapi']['token_secret'])"
   ]
  },
  {
   "cell_type": "code",
   "execution_count": null,
   "metadata": {},
   "outputs": [],
   "source": [
    "api = tweepy.API(auth, wait_on_rate_limit=True, wait_on_rate_limit_notify=True)\n",
    "tweets = []\n",
    "query = 'キミは #ポケモン自己分析 filter:links exclude:retweets'\n",
    "file_cnt = 0\n",
    "for i, tweet in enumerate(tweepy.Cursor(api.search, q=query, tweet_mode='extended', count=100).items()):\n",
    "    tweets.append(\n",
    "    {\n",
    "    'created_at': tweet.created_at,\n",
    "    'text': tweet.full_text,\n",
    "    'fav_count': tweet.favorite_count,\n",
    "    'rt_count': tweet.retweet_count,\n",
    "    'user': {\n",
    "        'id': tweet.author.id,\n",
    "        'screen_name': tweet.author.screen_name,\n",
    "        'name': tweet.author.name,\n",
    "        'followers_count': tweet.author.followers_count\n",
    "        }\n",
    "    }\n",
    "    )\n",
    "    if i %1000 == 0:\n",
    "        print(f'Fetch over {i}...oldest time: {tweet.created_at}')\n",
    "    if i % 100000 == 0:\n",
    "        joblib.dump(tweets, f'../data/tweet_proc_{file_cnt}.pkl', compress=True)\n",
    "        file_cnt += 1\n",
    "        print('Save proc file...')"
   ]
  },
  {
   "cell_type": "code",
   "execution_count": null,
   "metadata": {},
   "outputs": [],
   "source": [
    "joblib.dump(tweets, f'../data/tweet_212551.pkl', compress=True)"
   ]
  },
  {
   "cell_type": "code",
   "execution_count": null,
   "metadata": {},
   "outputs": [],
   "source": [
    "len(tweets)"
   ]
  },
  {
   "cell_type": "code",
   "execution_count": null,
   "metadata": {
    "scrolled": true
   },
   "outputs": [],
   "source": [
    "api = tweepy.API(auth, wait_on_rate_limit=True, wait_on_rate_limit_notify=True)\n",
    "tweets = []\n",
    "query = 'キミは #ポケモン自己分析 filter:links exclude:retweets since:2019-07-29_21:25:51_JST'\n",
    "file_cnt = 0\n",
    "for i, tweet in enumerate(tweepy.Cursor(api.search, q=query, tweet_mode='extended', count=100).items()):\n",
    "    tweets.append(\n",
    "    {\n",
    "    'created_at': tweet.created_at,\n",
    "    'text': tweet.full_text,\n",
    "    'fav_count': tweet.favorite_count,\n",
    "    'rt_count': tweet.retweet_count,\n",
    "    'user': {\n",
    "        'id': tweet.author.id,\n",
    "        'screen_name': tweet.author.screen_name,\n",
    "        'name': tweet.author.name,\n",
    "        'followers_count': tweet.author.followers_count\n",
    "        }\n",
    "    }\n",
    "    )\n",
    "    if i %1000 == 0:\n",
    "        print(f'Fetch over {i}...oldest time: {tweet.created_at}')\n",
    "    if i % 100000 == 0:\n",
    "        joblib.dump(tweets, f'../data/tweet_proc2_{file_cnt}.pkl', compress=True)\n",
    "        file_cnt += 1\n",
    "        print('Save proc file...')"
   ]
  },
  {
   "cell_type": "code",
   "execution_count": null,
   "metadata": {},
   "outputs": [],
   "source": [
    "len(tweets)"
   ]
  },
  {
   "cell_type": "code",
   "execution_count": null,
   "metadata": {},
   "outputs": [],
   "source": [
    "tweets[0]['created_at']"
   ]
  },
  {
   "cell_type": "code",
   "execution_count": null,
   "metadata": {},
   "outputs": [],
   "source": [
    "joblib.dump(tweets, f'../data/tweet_085225.pkl', compress=True)"
   ]
  },
  {
   "cell_type": "code",
   "execution_count": null,
   "metadata": {
    "scrolled": true
   },
   "outputs": [],
   "source": [
    "api = tweepy.API(auth, wait_on_rate_limit=True, wait_on_rate_limit_notify=True)\n",
    "tweets = []\n",
    "query = 'キミは #ポケモン自己分析 filter:links exclude:retweets since:2019-07-30_08:52:25_JST'\n",
    "file_cnt = 0\n",
    "for i, tweet in enumerate(tweepy.Cursor(api.search, q=query, tweet_mode='extended', count=100).items()):\n",
    "    tweets.append(\n",
    "    {\n",
    "    'created_at': tweet.created_at,\n",
    "    'text': tweet.full_text,\n",
    "    'fav_count': tweet.favorite_count,\n",
    "    'rt_count': tweet.retweet_count,\n",
    "    'user': {\n",
    "        'id': tweet.author.id,\n",
    "        'screen_name': tweet.author.screen_name,\n",
    "        'name': tweet.author.name,\n",
    "        'followers_count': tweet.author.followers_count\n",
    "        }\n",
    "    }\n",
    "    )\n",
    "    if i %1000 == 0:\n",
    "        print(f'Fetch over {i}...oldest time: {tweet.created_at}')\n",
    "    if i % 100000 == 0:\n",
    "        joblib.dump(tweets, f'../data/tweet_proc2_{file_cnt}.pkl', compress=True)\n",
    "        file_cnt += 1\n",
    "        print('Save proc file...')"
   ]
  },
  {
   "cell_type": "code",
   "execution_count": null,
   "metadata": {},
   "outputs": [],
   "source": [
    "len(tweets)"
   ]
  },
  {
   "cell_type": "code",
   "execution_count": null,
   "metadata": {},
   "outputs": [],
   "source": [
    "tweets[0]['created_at']"
   ]
  },
  {
   "cell_type": "code",
   "execution_count": null,
   "metadata": {},
   "outputs": [],
   "source": [
    "joblib.dump(tweets, f'../data/tweet_193053.pkl', compress=True)"
   ]
  }
 ],
 "metadata": {
  "kernelspec": {
   "display_name": "Python 3",
   "language": "python",
   "name": "python3"
  },
  "language_info": {
   "codemirror_mode": {
    "name": "ipython",
    "version": 3
   },
   "file_extension": ".py",
   "mimetype": "text/x-python",
   "name": "python",
   "nbconvert_exporter": "python",
   "pygments_lexer": "ipython3",
   "version": "3.7.1"
  }
 },
 "nbformat": 4,
 "nbformat_minor": 2
}
